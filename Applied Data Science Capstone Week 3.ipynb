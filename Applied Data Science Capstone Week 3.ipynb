{
 "cells": [
  {
   "cell_type": "markdown",
   "metadata": {},
   "source": [
    "# Applied Data Science Capstone - Week 3\n",
    "## Segmenting and Clustering Neighborhoods in Toronto\n",
    "- Data source: Wikipedia website https://en.wikipedia.org/wiki/List_of_postal_codes_of_Canada:_M\n",
    "- The dataframe will consist of three columns: Postcode, Borough, and Neighborhood.\n",
    "- Only process the cells that have an assigned Borough. Ignore cells with a Borough that is not assigned.\n",
    "- More than one neighborhood can exist in one postal code area. Such rows will be combined into one row separated with a comma.\n",
    "- If a cell has a borough but a not assigned neighborhood, then the neighborhood will be the same as the borough.\n",
    "- Clean your Notebook and add Markdown cells to explain your work and any assumptions you are making.\n",
    "- In the last cell of your notebook, use the .shape method to print the number of rows of your dataframe.\n",
    "- Submit a link to your Notebook on your Github repository. (10 marks)"
   ]
  },
  {
   "cell_type": "markdown",
   "metadata": {},
   "source": [
    "### Install beautifulsoup if necessary and import libraries"
   ]
  },
  {
   "cell_type": "code",
   "execution_count": 1,
   "metadata": {},
   "outputs": [
    {
     "name": "stdout",
     "output_type": "stream",
     "text": [
      "Requirement already satisfied: beautifulsoup4 in /srv/conda/envs/notebook/lib/python3.7/site-packages (4.8.1)\n",
      "Requirement already satisfied: soupsieve>=1.2 in /srv/conda/envs/notebook/lib/python3.7/site-packages (from beautifulsoup4) (1.9.5)\n"
     ]
    }
   ],
   "source": [
    "!pip install beautifulsoup4\n",
    "import pandas as pd\n",
    "from bs4 import BeautifulSoup\n",
    "import requests"
   ]
  },
  {
   "cell_type": "markdown",
   "metadata": {},
   "source": [
    "## Web Scraping\n",
    "### 1. Read Wikipedia page\n",
    "### 2. Parse HTML with standard parser"
   ]
  },
  {
   "cell_type": "code",
   "execution_count": 2,
   "metadata": {},
   "outputs": [],
   "source": [
    "r = requests.get(\"https://en.wikipedia.org/wiki/List_of_postal_codes_of_Canada:_M\")\n",
    "soup = BeautifulSoup(r.text, 'html.parser')"
   ]
  },
  {
   "cell_type": "markdown",
   "metadata": {},
   "source": [
    "### Find table on Wikipedia page"
   ]
  },
  {
   "cell_type": "code",
   "execution_count": 3,
   "metadata": {},
   "outputs": [],
   "source": [
    "table = soup.find('table',{'class':'wikitable sortable'})"
   ]
  },
  {
   "cell_type": "markdown",
   "metadata": {},
   "source": [
    "### Find all rows in the table"
   ]
  },
  {
   "cell_type": "code",
   "execution_count": 4,
   "metadata": {},
   "outputs": [],
   "source": [
    "trs = table.find_all('tr')"
   ]
  },
  {
   "cell_type": "markdown",
   "metadata": {},
   "source": [
    "### Append rows"
   ]
  },
  {
   "cell_type": "code",
   "execution_count": 5,
   "metadata": {},
   "outputs": [
    {
     "name": "stdout",
     "output_type": "stream",
     "text": [
      "  Postcode           Borough      Neighborhood\n",
      "1      M1A      Not assigned      Not assigned\n",
      "2      M2A      Not assigned      Not assigned\n",
      "3      M3A        North York         Parkwoods\n",
      "4      M4A        North York  Victoria Village\n",
      "5      M5A  Downtown Toronto      Harbourfront\n",
      "---\n",
      "    Postcode       Borough           Neighborhood\n",
      "283      M8Z     Etobicoke              Mimico NW\n",
      "284      M8Z     Etobicoke     The Queensway West\n",
      "285      M8Z     Etobicoke  Royal York South West\n",
      "286      M8Z     Etobicoke         South of Bloor\n",
      "287      M9Z  Not assigned           Not assigned\n"
     ]
    }
   ],
   "source": [
    "rows = []\n",
    "for r in trs:\n",
    "    rows.append([t.text.strip() for t in r.find_all('td')])\n",
    "     \n",
    "df = pd.DataFrame(rows, columns=['Postcode', 'Borough', 'Neighborhood'])\n",
    "df = df[~df['Postcode'].isnull()]\n",
    "\n",
    "print(df.head())\n",
    "print('---')\n",
    "print(df.tail())"
   ]
  },
  {
   "cell_type": "markdown",
   "metadata": {},
   "source": [
    "### Remove rows with borough='Not assigned' and reindex"
   ]
  },
  {
   "cell_type": "code",
   "execution_count": 6,
   "metadata": {},
   "outputs": [
    {
     "name": "stdout",
     "output_type": "stream",
     "text": [
      "  Postcode           Borough      Neighborhood\n",
      "0      M3A        North York         Parkwoods\n",
      "1      M4A        North York  Victoria Village\n",
      "2      M5A  Downtown Toronto      Harbourfront\n",
      "3      M6A        North York  Lawrence Heights\n",
      "4      M6A        North York    Lawrence Manor\n",
      "---\n",
      "    Postcode    Borough              Neighborhood\n",
      "205      M8Z  Etobicoke  Kingsway Park South West\n",
      "206      M8Z  Etobicoke                 Mimico NW\n",
      "207      M8Z  Etobicoke        The Queensway West\n",
      "208      M8Z  Etobicoke     Royal York South West\n",
      "209      M8Z  Etobicoke            South of Bloor\n"
     ]
    }
   ],
   "source": [
    "df.drop(df[df['Borough']=='Not assigned'].index,axis=0, inplace=True)\n",
    "df = df.reset_index(drop=True)\n",
    "\n",
    "print(df.head())\n",
    "print('---')\n",
    "print(df.tail())"
   ]
  },
  {
   "cell_type": "markdown",
   "metadata": {},
   "source": [
    "### If there is more than one neighborhood for the same postcode, aggregate to 1 row with neighborhoods separated by commas and re-index"
   ]
  },
  {
   "cell_type": "code",
   "execution_count": 7,
   "metadata": {},
   "outputs": [
    {
     "name": "stdout",
     "output_type": "stream",
     "text": [
      "  Postcode      Borough                            Neighborhood\n",
      "0      M1B  Scarborough                          Rouge, Malvern\n",
      "1      M1C  Scarborough  Highland Creek, Rouge Hill, Port Union\n",
      "2      M1E  Scarborough       Guildwood, Morningside, West Hill\n",
      "3      M1G  Scarborough                                  Woburn\n",
      "4      M1H  Scarborough                               Cedarbrae\n",
      "---\n",
      "    Postcode    Borough                                       Neighborhood\n",
      "98       M9N       York                                             Weston\n",
      "99       M9P  Etobicoke                                          Westmount\n",
      "100      M9R  Etobicoke  Kingsview Village, Martin Grove Gardens, Richv...\n",
      "101      M9V  Etobicoke  Albion Gardens, Beaumond Heights, Humbergate, ...\n",
      "102      M9W  Etobicoke                                          Northwest\n"
     ]
    }
   ],
   "source": [
    "df = df.groupby(['Postcode', 'Borough'])['Neighborhood'].agg(', '.join).reset_index()\n",
    "\n",
    "print(df.head())\n",
    "print('---')\n",
    "print(df.tail())"
   ]
  },
  {
   "cell_type": "markdown",
   "metadata": {},
   "source": [
    "### If neighborhood = 'Not assigned' then set neighborhood = borough"
   ]
  },
  {
   "cell_type": "code",
   "execution_count": 8,
   "metadata": {},
   "outputs": [
    {
     "name": "stdout",
     "output_type": "stream",
     "text": [
      "Example:\n",
      "Postcode M7A old:\n",
      "   Postcode       Borough  Neighborhood\n",
      "85      M7A  Queen's Park  Not assigned\n",
      "---------------------------------------\n",
      "Postcode M7A new:\n",
      "   Postcode       Borough  Neighborhood\n",
      "85      M7A  Queen's Park  Queen's Park\n"
     ]
    }
   ],
   "source": [
    "print('Example:')\n",
    "print('Postcode M7A old:')\n",
    "print(df.loc[df['Postcode'] == 'M7A'])\n",
    "\n",
    "df.loc[df['Neighborhood']==\"Not assigned\",'Neighborhood']=df.loc[df['Neighborhood']==\"Not assigned\",'Borough']\n",
    "\n",
    "print('---------------------------------------')\n",
    "print('Postcode M7A new:')\n",
    "print(df.loc[df['Postcode'] == 'M7A'])"
   ]
  },
  {
   "cell_type": "markdown",
   "metadata": {},
   "source": [
    "## Show no. of rows and colums in the dataframe"
   ]
  },
  {
   "cell_type": "code",
   "execution_count": 9,
   "metadata": {},
   "outputs": [
    {
     "data": {
      "text/plain": [
       "(103, 3)"
      ]
     },
     "execution_count": 9,
     "metadata": {},
     "output_type": "execute_result"
    }
   ],
   "source": [
    "df.shape"
   ]
  },
  {
   "cell_type": "markdown",
   "metadata": {},
   "source": [
    "## Show no. of boroughs and neighborhoods in the dataframe"
   ]
  },
  {
   "cell_type": "code",
   "execution_count": 10,
   "metadata": {},
   "outputs": [
    {
     "name": "stdout",
     "output_type": "stream",
     "text": [
      "The dataframe has 11 boroughs and 103 neighborhoods.\n"
     ]
    }
   ],
   "source": [
    "print('The dataframe has {} boroughs and {} neighborhoods.'.format(\n",
    "        len(df['Borough'].unique()),\n",
    "        df.shape[0]\n",
    "    )\n",
    ")"
   ]
  },
  {
   "cell_type": "markdown",
   "metadata": {},
   "source": [
    "## This Jupyter Notebook is available on GitHub\n",
    "('Applied Data Science Capstone Week 3.ipynb')"
   ]
  },
  {
   "cell_type": "markdown",
   "metadata": {},
   "source": [
    "https://github.com/steveshep/Coursera_Capstone/blob/master/Applied%20Data%20Science%20Capstone%20Week%203.ipynb"
   ]
  },
  {
   "cell_type": "markdown",
   "metadata": {},
   "source": [
    "## Get lattitude and longitude for each postcode in the dataframe \n",
    "### Use CSV file, geocoder.google() does not not work"
   ]
  },
  {
   "cell_type": "code",
   "execution_count": 11,
   "metadata": {},
   "outputs": [],
   "source": [
    "# copy dataframe for further processing with geo data\n",
    "geo_df = df\n",
    "\n",
    "# add columns latitude and Longitude to new dataframe\n",
    "geo_df['Latitude'] = ''\n",
    "geo_df['Longitude'] = ''"
   ]
  },
  {
   "cell_type": "code",
   "execution_count": 12,
   "metadata": {},
   "outputs": [],
   "source": [
    "# read csv file with geo coordinates for Postcodes into dataframe as the geocoders don't work very well\n",
    "geo_coordinates = pd.read_csv('https://cocl.us/Geospatial_data')"
   ]
  },
  {
   "cell_type": "code",
   "execution_count": 13,
   "metadata": {},
   "outputs": [],
   "source": [
    "# define function to get lat and long out of coordinates dataframe\n",
    "def get_geo_coord(df_pc):\n",
    "    lat   = geo_coordinates.loc[geo_coordinates['Postal Code'] == df_pc].iloc[0]['Latitude']\n",
    "    long = geo_coordinates.loc[geo_coordinates['Postal Code'] == df_pc].iloc[0]['Longitude']\n",
    "    return lat, long\n",
    "\n",
    "# loop to add lattitude and longitude to dataframe\n",
    "for i in range(0,len(geo_df)):\n",
    "    geo_df['Latitude'][i], geo_df['Longitude'][i] = get_geo_coord(geo_df.iloc[i]['Postcode'])"
   ]
  },
  {
   "cell_type": "markdown",
   "metadata": {},
   "source": [
    "## Use a dataframe containing only boroughs that contain the word 'Toronto'"
   ]
  },
  {
   "cell_type": "code",
   "execution_count": 14,
   "metadata": {},
   "outputs": [
    {
     "data": {
      "text/html": [
       "<div>\n",
       "<style scoped>\n",
       "    .dataframe tbody tr th:only-of-type {\n",
       "        vertical-align: middle;\n",
       "    }\n",
       "\n",
       "    .dataframe tbody tr th {\n",
       "        vertical-align: top;\n",
       "    }\n",
       "\n",
       "    .dataframe thead th {\n",
       "        text-align: right;\n",
       "    }\n",
       "</style>\n",
       "<table border=\"1\" class=\"dataframe\">\n",
       "  <thead>\n",
       "    <tr style=\"text-align: right;\">\n",
       "      <th></th>\n",
       "      <th>Postcode</th>\n",
       "      <th>Borough</th>\n",
       "      <th>Neighborhood</th>\n",
       "      <th>Latitude</th>\n",
       "      <th>Longitude</th>\n",
       "    </tr>\n",
       "  </thead>\n",
       "  <tbody>\n",
       "    <tr>\n",
       "      <th>0</th>\n",
       "      <td>M4E</td>\n",
       "      <td>East Toronto</td>\n",
       "      <td>The Beaches</td>\n",
       "      <td>43.6764</td>\n",
       "      <td>-79.293</td>\n",
       "    </tr>\n",
       "    <tr>\n",
       "      <th>1</th>\n",
       "      <td>M4K</td>\n",
       "      <td>East Toronto</td>\n",
       "      <td>The Danforth West, Riverdale</td>\n",
       "      <td>43.6796</td>\n",
       "      <td>-79.3522</td>\n",
       "    </tr>\n",
       "    <tr>\n",
       "      <th>2</th>\n",
       "      <td>M4L</td>\n",
       "      <td>East Toronto</td>\n",
       "      <td>The Beaches West, India Bazaar</td>\n",
       "      <td>43.669</td>\n",
       "      <td>-79.3156</td>\n",
       "    </tr>\n",
       "    <tr>\n",
       "      <th>3</th>\n",
       "      <td>M4M</td>\n",
       "      <td>East Toronto</td>\n",
       "      <td>Studio District</td>\n",
       "      <td>43.6595</td>\n",
       "      <td>-79.3409</td>\n",
       "    </tr>\n",
       "    <tr>\n",
       "      <th>4</th>\n",
       "      <td>M4N</td>\n",
       "      <td>Central Toronto</td>\n",
       "      <td>Lawrence Park</td>\n",
       "      <td>43.728</td>\n",
       "      <td>-79.3888</td>\n",
       "    </tr>\n",
       "  </tbody>\n",
       "</table>\n",
       "</div>"
      ],
      "text/plain": [
       "  Postcode          Borough                    Neighborhood Latitude Longitude\n",
       "0      M4E     East Toronto                     The Beaches  43.6764   -79.293\n",
       "1      M4K     East Toronto    The Danforth West, Riverdale  43.6796  -79.3522\n",
       "2      M4L     East Toronto  The Beaches West, India Bazaar   43.669  -79.3156\n",
       "3      M4M     East Toronto                 Studio District  43.6595  -79.3409\n",
       "4      M4N  Central Toronto                   Lawrence Park   43.728  -79.3888"
      ]
     },
     "execution_count": 14,
     "metadata": {},
     "output_type": "execute_result"
    }
   ],
   "source": [
    "geo_df_to = geo_df[geo_df['Borough'].str.contains('Toronto')].reset_index(drop=True)\n",
    "\n",
    "geo_df_to.head()"
   ]
  },
  {
   "cell_type": "markdown",
   "metadata": {},
   "source": [
    "### Define Foursquare credentials and version"
   ]
  },
  {
   "cell_type": "code",
   "execution_count": 15,
   "metadata": {},
   "outputs": [],
   "source": [
    "# @hidden cell\n",
    "CLIENT_ID = 'WWNDAHJPMN04XWSXX2APHYS3NNHBCFQS2PI3KYGONDFLFEDX' # your Foursquare ID\n",
    "CLIENT_SECRET = 'X5Q5HJCGTDL2FYWTREOLGR202XHBPIVYDPZQAHHWKHMRVH1N' # your Foursquare Secret\n",
    "VERSION = '20180604' # Foursquare API version"
   ]
  },
  {
   "cell_type": "markdown",
   "metadata": {},
   "source": [
    "### Explore the first neigborhood in Toronto"
   ]
  },
  {
   "cell_type": "code",
   "execution_count": 16,
   "metadata": {},
   "outputs": [
    {
     "data": {
      "text/plain": [
       "'The Beaches'"
      ]
     },
     "execution_count": 16,
     "metadata": {},
     "output_type": "execute_result"
    }
   ],
   "source": [
    "#show name of \n",
    "geo_df_to.loc[0, 'Neighborhood']"
   ]
  },
  {
   "cell_type": "code",
   "execution_count": null,
   "metadata": {},
   "outputs": [],
   "source": []
  }
 ],
 "metadata": {
  "kernelspec": {
   "display_name": "Python 3",
   "language": "python",
   "name": "python3"
  },
  "language_info": {
   "codemirror_mode": {
    "name": "ipython",
    "version": 3
   },
   "file_extension": ".py",
   "mimetype": "text/x-python",
   "name": "python",
   "nbconvert_exporter": "python",
   "pygments_lexer": "ipython3",
   "version": "3.7.3"
  }
 },
 "nbformat": 4,
 "nbformat_minor": 4
}
