{
 "cells": [
  {
   "cell_type": "markdown",
   "metadata": {},
   "source": [
    "# Applied Data Science Capstone - Week 3\n",
    "## Segmenting and Clustering Neighborhoods in Toronto\n",
    "- Data source: Wikipedia website https://en.wikipedia.org/wiki/List_of_postal_codes_of_Canada:_M\n",
    "- The dataframe will consist of three columns: Postcode, Borough, and Neighborhood.\n",
    "- Only process the cells that have an assigned Borough. Ignore cells with a Borough that is not assigned.\n",
    "- More than one neighborhood can exist in one postal code area. Such rows will be combined into one row separated with a comma.\n",
    "- If a cell has a borough but a not assigned neighborhood, then the neighborhood will be the same as the borough.\n",
    "- Clean your Notebook and add Markdown cells to explain your work and any assumptions you are making.\n",
    "- In the last cell of your notebook, use the .shape method to print the number of rows of your dataframe.\n",
    "- Submit a link to your Notebook on your Github repository. (10 marks)"
   ]
  },
  {
   "cell_type": "markdown",
   "metadata": {},
   "source": [
    "### Install beautifulsoup if necessary and import libraries"
   ]
  },
  {
   "cell_type": "code",
   "execution_count": 207,
   "metadata": {},
   "outputs": [
    {
     "name": "stdout",
     "output_type": "stream",
     "text": [
      "Requirement already satisfied: beautifulsoup4 in /srv/conda/envs/notebook/lib/python3.7/site-packages (4.8.1)\n",
      "Requirement already satisfied: soupsieve>=1.2 in /srv/conda/envs/notebook/lib/python3.7/site-packages (from beautifulsoup4) (1.9.5)\n"
     ]
    }
   ],
   "source": [
    "!pip install beautifulsoup4\n",
    "import pandas as pd\n",
    "from bs4 import BeautifulSoup\n",
    "import requests"
   ]
  },
  {
   "cell_type": "markdown",
   "metadata": {},
   "source": [
    "## Start Web Scraping\n",
    "### 1. Read Wikipedia page\n",
    "### 2. Parse HTML with standard parser"
   ]
  },
  {
   "cell_type": "code",
   "execution_count": 208,
   "metadata": {},
   "outputs": [],
   "source": [
    "r = requests.get(\"https://en.wikipedia.org/wiki/List_of_postal_codes_of_Canada:_M\")\n",
    "soup = BeautifulSoup(r.text, 'html.parser')"
   ]
  },
  {
   "cell_type": "markdown",
   "metadata": {},
   "source": [
    "### Find table on Wikipedia page"
   ]
  },
  {
   "cell_type": "code",
   "execution_count": 209,
   "metadata": {},
   "outputs": [],
   "source": [
    "table = soup.find('table',{'class':'wikitable sortable'})"
   ]
  },
  {
   "cell_type": "markdown",
   "metadata": {},
   "source": [
    "### Find all rows in the table"
   ]
  },
  {
   "cell_type": "code",
   "execution_count": 210,
   "metadata": {},
   "outputs": [],
   "source": [
    "trs = table.find_all('tr')"
   ]
  },
  {
   "cell_type": "markdown",
   "metadata": {},
   "source": [
    "### Append rows"
   ]
  },
  {
   "cell_type": "code",
   "execution_count": 211,
   "metadata": {},
   "outputs": [
    {
     "name": "stdout",
     "output_type": "stream",
     "text": [
      "  Postcode           Borough      Neighborhood\n",
      "1      M1A      Not assigned      Not assigned\n",
      "2      M2A      Not assigned      Not assigned\n",
      "3      M3A        North York         Parkwoods\n",
      "4      M4A        North York  Victoria Village\n",
      "5      M5A  Downtown Toronto      Harbourfront\n",
      "---\n",
      "    Postcode       Borough           Neighborhood\n",
      "283      M8Z     Etobicoke              Mimico NW\n",
      "284      M8Z     Etobicoke     The Queensway West\n",
      "285      M8Z     Etobicoke  Royal York South West\n",
      "286      M8Z     Etobicoke         South of Bloor\n",
      "287      M9Z  Not assigned           Not assigned\n"
     ]
    }
   ],
   "source": [
    "rows = []\n",
    "for r in trs:\n",
    "    rows.append([t.text.strip() for t in r.find_all('td')])\n",
    "     \n",
    "df = pd.DataFrame(rows, columns=['Postcode', 'Borough', 'Neighborhood'])\n",
    "df = df[~df['Postcode'].isnull()]\n",
    "\n",
    "print(df.head())\n",
    "print('---')\n",
    "print(df.tail())"
   ]
  },
  {
   "cell_type": "markdown",
   "metadata": {},
   "source": [
    "### Remove rows with Borough='Not assigned' and reindex"
   ]
  },
  {
   "cell_type": "code",
   "execution_count": 212,
   "metadata": {},
   "outputs": [
    {
     "name": "stdout",
     "output_type": "stream",
     "text": [
      "  Postcode           Borough      Neighborhood\n",
      "0      M3A        North York         Parkwoods\n",
      "1      M4A        North York  Victoria Village\n",
      "2      M5A  Downtown Toronto      Harbourfront\n",
      "3      M6A        North York  Lawrence Heights\n",
      "4      M6A        North York    Lawrence Manor\n",
      "---\n",
      "    Postcode    Borough              Neighborhood\n",
      "205      M8Z  Etobicoke  Kingsway Park South West\n",
      "206      M8Z  Etobicoke                 Mimico NW\n",
      "207      M8Z  Etobicoke        The Queensway West\n",
      "208      M8Z  Etobicoke     Royal York South West\n",
      "209      M8Z  Etobicoke            South of Bloor\n"
     ]
    }
   ],
   "source": [
    "df.drop(df[df['Borough']=='Not assigned'].index,axis=0, inplace=True)\n",
    "df = df.reset_index(drop=True)\n",
    "\n",
    "print(df.head())\n",
    "print('---')\n",
    "print(df.tail())"
   ]
  },
  {
   "cell_type": "markdown",
   "metadata": {},
   "source": [
    "### If there is more than 1 Neighborhood for the same Postcode, aggregate to 1 row with Neighborhoods separated by commas and re-index"
   ]
  },
  {
   "cell_type": "code",
   "execution_count": 213,
   "metadata": {},
   "outputs": [
    {
     "name": "stdout",
     "output_type": "stream",
     "text": [
      "  Postcode      Borough                            Neighborhood\n",
      "0      M1B  Scarborough                          Rouge, Malvern\n",
      "1      M1C  Scarborough  Highland Creek, Rouge Hill, Port Union\n",
      "2      M1E  Scarborough       Guildwood, Morningside, West Hill\n",
      "3      M1G  Scarborough                                  Woburn\n",
      "4      M1H  Scarborough                               Cedarbrae\n",
      "---\n",
      "    Postcode    Borough                                       Neighborhood\n",
      "98       M9N       York                                             Weston\n",
      "99       M9P  Etobicoke                                          Westmount\n",
      "100      M9R  Etobicoke  Kingsview Village, Martin Grove Gardens, Richv...\n",
      "101      M9V  Etobicoke  Albion Gardens, Beaumond Heights, Humbergate, ...\n",
      "102      M9W  Etobicoke                                          Northwest\n"
     ]
    }
   ],
   "source": [
    "df = df.groupby(['Postcode', 'Borough'])['Neighborhood'].agg(', '.join).reset_index()\n",
    "\n",
    "print(df.head())\n",
    "print('---')\n",
    "print(df.tail())"
   ]
  },
  {
   "cell_type": "markdown",
   "metadata": {},
   "source": [
    "### If Neighborhood = 'Not assigned' set Neighborhood = Borough"
   ]
  },
  {
   "cell_type": "code",
   "execution_count": 214,
   "metadata": {},
   "outputs": [
    {
     "name": "stdout",
     "output_type": "stream",
     "text": [
      "Example:\n",
      "Postcode M7A old:\n",
      "   Postcode       Borough  Neighborhood\n",
      "85      M7A  Queen's Park  Not assigned\n",
      "---------------------------------------\n",
      "Postcode M7A new:\n",
      "   Postcode       Borough  Neighborhood\n",
      "85      M7A  Queen's Park  Queen's Park\n"
     ]
    }
   ],
   "source": [
    "print('Example:')\n",
    "print('Postcode M7A old:')\n",
    "print(df.loc[df['Postcode'] == 'M7A'])\n",
    "\n",
    "df.loc[df['Neighborhood']==\"Not assigned\",'Neighborhood']=df.loc[df['Neighborhood']==\"Not assigned\",'Borough']\n",
    "\n",
    "print('---------------------------------------')\n",
    "print('Postcode M7A new:')\n",
    "print(df.loc[df['Postcode'] == 'M7A'])"
   ]
  },
  {
   "cell_type": "markdown",
   "metadata": {},
   "source": [
    "### Show no. of rows and colums"
   ]
  },
  {
   "cell_type": "code",
   "execution_count": 215,
   "metadata": {},
   "outputs": [
    {
     "data": {
      "text/plain": [
       "(103, 3)"
      ]
     },
     "execution_count": 215,
     "metadata": {},
     "output_type": "execute_result"
    }
   ],
   "source": [
    "df.shape"
   ]
  },
  {
   "cell_type": "markdown",
   "metadata": {},
   "source": [
    "## Jupyter Notebook available on GitHub:"
   ]
  },
  {
   "cell_type": "markdown",
   "metadata": {},
   "source": [
    "https://github.com/steveshep/Coursera_Capstone/blob/master/Applied%20Data%20Science%20Capstone%20Week%203.ipynb"
   ]
  },
  {
   "cell_type": "code",
   "execution_count": null,
   "metadata": {},
   "outputs": [],
   "source": []
  }
 ],
 "metadata": {
  "kernelspec": {
   "display_name": "Python 3",
   "language": "python",
   "name": "python3"
  },
  "language_info": {
   "codemirror_mode": {
    "name": "ipython",
    "version": 3
   },
   "file_extension": ".py",
   "mimetype": "text/x-python",
   "name": "python",
   "nbconvert_exporter": "python",
   "pygments_lexer": "ipython3",
   "version": "3.7.3"
  }
 },
 "nbformat": 4,
 "nbformat_minor": 4
}
