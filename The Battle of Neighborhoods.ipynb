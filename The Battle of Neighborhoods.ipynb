{
 "cells": [
  {
   "cell_type": "markdown",
   "metadata": {},
   "source": [
    "# **The Battle of Neighborhoods**"
   ]
  },
  {
   "cell_type": "markdown",
   "metadata": {},
   "source": [
    "## **IBM Data Science by Coursera  -  Applied Data Science Capstone  -  Peer Graded Project**"
   ]
  },
  {
   "cell_type": "markdown",
   "metadata": {},
   "source": [
    "### **Week 1 of 2** (to be uploaded until Dec.9, 2019)"
   ]
  },
  {
   "cell_type": "markdown",
   "metadata": {},
   "source": [
    "### According to Coursera's Review Criteria the following describes\n",
    "1. The problem and a discussion of the background\n",
    "2. The data and how it will be used to solve the problem"
   ]
  },
  {
   "cell_type": "markdown",
   "metadata": {},
   "source": [
    "### 1. Problem and Discussion of the Background"
   ]
  },
  {
   "cell_type": "markdown",
   "metadata": {},
   "source": [
    "**Requirements:**  \n",
    "\"Clearly define a problem or an idea of your choice, where you would need to leverage the Foursquare location  \n",
    "data to solve or execute.\n",
    "Remember that data science problems always target an audience and are meant to help  \n",
    "a group of stakeholders solve a problem, so make sure that you explicitly describe your audience and why they  \n",
    "would care about your problem.\""
   ]
  },
  {
   "cell_type": "markdown",
   "metadata": {},
   "source": [
    "#### **Idea**  \n",
    "I want to pick up suggestion 2. of our coursera tutor Alex Aklson. Let's suppose I am a business consultant and I have a new client who wants to open an Italian restaurant in Toronto. His name is Roberto and he is an Italian chef who worked for several well known restaurants and hotels everywhere in the world. Not long ago he had an engagement in Toronto, Canada. During this time he realized that most of the local Italian restaurants there only offer Pizza and Pasta. Born in Rome, Roberto knew that no one in Italy would call a Pizzeria a 'Ristorante'. If you step into a Restaurant in Italy and ask for a Pizza, he told me, you might really earn some unfriendly words. Genuine Italian food is much more than Pizza and has a very broad range of ingredients and flavours, differing from region to region. So Roberto had the idea to open his own original style Italian restaurant and serve all the fine meals of the regions between Milan and Sicily with monthly highlights of a special meal of one region like Ossobuco Milanese with Saffron Rice etc.  \n",
    "\n",
    "When planning his new engagement in Toronto, Roberto came to a point where he had to decide where to locate his restaurant in Toronto. As we have a long-term friendship he called me and asked me if I could help him finding the best place. Of course I assured him of my help and started this notebook to collect, process and analyze specific data and information about Toronto. In particular Foursqare migth help me, I thought, because it could provide specific venues data for the boroughs and neighborhoods of Toronto.  \n",
    "\n",
    "To find the best place and make a recommendation we have to take a close look at the available data and decide what  \n",
    "could be the best strategy, e.g.:  \n",
    "\n",
    "- are there already other Italian restaurants\n",
    "- could this be a chance because the people who go there seem to like Italian food\n",
    "- or could this be a problem due to the competitive situation\n",
    "- would it be better to choose a location whith e.g. more asian restaurants  to give the people an alternative\n",
    "- or might a higher no. of asian restaurants mean that the people there prefer asian food\n",
    "- would it be a good idea to look for alocation whith only few restaurants\n",
    "- or might there be reasons for the low no. of restaurants there\n",
    "- we can basically use the rating information of Foursqare to get a better juudgement of the situation\n",
    "- can we suppose a floating population due to some specificc venues nearby\n",
    "- etc. The data will give us a clearer view."
   ]
  },
  {
   "cell_type": "markdown",
   "metadata": {},
   "source": [
    "### 2. Data and how it will be used to solve the problem"
   ]
  },
  {
   "cell_type": "markdown",
   "metadata": {},
   "source": [
    "**Requirements:**  \n",
    "\"Describe the data that you will be using to solve the problem or execute your idea. Remember that you will need to use the  \n",
    "Foursquare location data to solve the problem or execute your idea. You can absolutely use other datasets in combination with  \n",
    "the Foursquare location data. So make sure that you provide adequate explanation and discussion, with examples of the data  \n",
    "that you will be using, even if it is only Foursquare location data.\""
   ]
  },
  {
   "cell_type": "markdown",
   "metadata": {},
   "source": [
    "**Data**  \n",
    "I will scrape the Canadian postcode site of Wikipedia using the Beautiful Soup library and get a dataframe with postcodes, boroughs and neighborhoods like this:  \n",
    "Postcode  Borough              Neighborhood  \n",
    "M3A   North York           Parkwoods  \n",
    "M4A   North York           Victoria Village  \n",
    "M5A   Downtown Toronto     Harbourfront  \n",
    "M6A   North York           Lawrence Heights  \n",
    "M6A   North York           Lawrence Manor  \n",
    "...  \n",
    "  \n",
    "Then I will apply lattidtude and longitude using the file provided by 'cognitive class'. The result will look like this:  \n",
    "M6P West Toronto High Park 43.6616 -79.4648  \n",
    "M6R West Toronto Parkdale 43.649 -79.4563  \n",
    "M6S West Toronto Runnymede 43.6516 -79.4844  \n",
    "...  \n",
    "\n",
    "Now I use Foursquare to get venue data for all neighborhoods. The result will look like this:  \n",
    "Neighborhood Neighborhood Latitude Neighborhood Longitude Venue Venue Latitude Venue Longitude Venue Category  \n",
    "The Beaches 43.676357 -79.293031 Glen Manor Ravine 43.676821 -79.293942 Trail  \n",
    "The Beaches 43.676357 -79.293031 The Big Carrot Natural Food Market 43.678879 -79.297734 Health Food Store  \n",
    "The Beaches 43.676357 -79.293031 Grover Pub and Grub 43.679181 -79.297215 Pub  \n",
    "The Beaches 43.676357 -79.293031 Glen Stewart Ravine 43.676300 -79.294784 Other Great Outdoors  \n",
    "The Beaches 43.676357 -79.293031 Domino's Pizza 43.679058 -79.297382 Pizza Place  \n",
    "... \n",
    "\n",
    "This is the starting point for further data analysis. We can sort, filter and aggregate the data in different ways to gain a deeper understanding of the situation. We can also visualize the data with some graphs and maps for a better overview. Doing all this we can collect information to determine the best place for the new Italian restaurant.  \n",
    "\n",
    "My results and observations will then lead to a recommendation for my client Roberto.\n"
   ]
  },
  {
   "cell_type": "markdown",
   "metadata": {},
   "source": [
    "# _____ to be continued _____"
   ]
  },
  {
   "cell_type": "markdown",
   "metadata": {},
   "source": [
    "### **Week 2 of 2** (to be uploaded until Dec.16, 2019)"
   ]
  },
  {
   "cell_type": "markdown",
   "metadata": {},
   "source": [
    "### According to Coursera's Review Criteria a full report consists of the following components:\n",
    "1.\n",
    "  - Introduction to the discussion of the business problem and who would be interested in this project\n",
    "  - Description of the data that will be used to solve the problem and the source of the data\n",
    "  - Methodology which represents the main component of the report and describes and discusses any exploratory data analysis,  \n",
    "  any inferential statistical testing - if any- and what machine learnings were used and why\n",
    "  - Results section here the results are discussed\n",
    "  - Discussion section where any observations noted are discussed and any recommendations based on the results can be made\n",
    "  - Conclusion section where the report is concluded\n",
    "\n",
    "2.\n",
    "   A link to the Notebook on a Github repository showing the code\n",
    "\n",
    "3.\n",
    "   Choice of a presentation or blogpost"
   ]
  },
  {
   "cell_type": "markdown",
   "metadata": {},
   "source": [
    "### **1. Description**"
   ]
  },
  {
   "cell_type": "markdown",
   "metadata": {},
   "source": [
    "#### **a) Introduction / Problem**"
   ]
  },
  {
   "cell_type": "code",
   "execution_count": null,
   "metadata": {},
   "outputs": [],
   "source": []
  },
  {
   "cell_type": "markdown",
   "metadata": {},
   "source": [
    "#### **b) Data**"
   ]
  },
  {
   "cell_type": "code",
   "execution_count": null,
   "metadata": {},
   "outputs": [],
   "source": []
  },
  {
   "cell_type": "markdown",
   "metadata": {},
   "source": [
    "#### **c) Methodology**"
   ]
  },
  {
   "cell_type": "code",
   "execution_count": null,
   "metadata": {},
   "outputs": [],
   "source": []
  },
  {
   "cell_type": "markdown",
   "metadata": {},
   "source": [
    "#### **d) Results**"
   ]
  },
  {
   "cell_type": "code",
   "execution_count": null,
   "metadata": {},
   "outputs": [],
   "source": []
  },
  {
   "cell_type": "markdown",
   "metadata": {},
   "source": [
    "#### **e) Observations & Recommendations**"
   ]
  },
  {
   "cell_type": "code",
   "execution_count": null,
   "metadata": {},
   "outputs": [],
   "source": []
  },
  {
   "cell_type": "markdown",
   "metadata": {},
   "source": [
    "#### **f) Conclusion**"
   ]
  },
  {
   "cell_type": "code",
   "execution_count": null,
   "metadata": {},
   "outputs": [],
   "source": []
  },
  {
   "cell_type": "markdown",
   "metadata": {},
   "source": [
    "### **2. Working with Data**"
   ]
  },
  {
   "cell_type": "markdown",
   "metadata": {},
   "source": [
    "#### Link to Notebook on GitHub"
   ]
  },
  {
   "cell_type": "code",
   "execution_count": null,
   "metadata": {},
   "outputs": [],
   "source": []
  },
  {
   "cell_type": "code",
   "execution_count": null,
   "metadata": {},
   "outputs": [],
   "source": [
    "# Load libraries\n",
    "\n",
    "import pandas as pd\n",
    "pd.set_option('display.max_columns', None)\n",
    "pd.set_option('display.max_rows', None)\n",
    "\n",
    "import numpy as np\n",
    "import matplotlib as mpl\n",
    "\n",
    "font = {'size'   : 12}\n",
    "mpl.rc('font', **font)\n",
    "\n",
    "import matplotlib as mpl\n",
    "import matplotlib.pyplot as plt\n",
    "%matplotlib inline \n",
    "\n",
    "import seaborn as sns\n",
    "sns.set_style(\"darkgrid\")\n",
    "\n",
    "# Use Folium to display Maps\n",
    "import folium\n",
    "from folium.plugins import MarkerCluster\n",
    "from folium.plugins import FastMarkerCluster\n",
    "from folium import plugins\n",
    "\n",
    "# Module to convert addresses into latitude and longitude values\n",
    "from geopy.geocoders import Nominatim\n",
    "\n",
    "# SciKit Learn Libraries\n",
    "from sklearn import preprocessing\n",
    "from sklearn.model_selection import train_test_split\n",
    "from sklearn.neighbors import KNeighborsClassifier\n",
    "from sklearn.naive_bayes import BernoulliNB\n",
    "from sklearn.ensemble import RandomForestClassifier\n",
    "from sklearn import metrics\n",
    "from sklearn.model_selection import KFold, cross_val_score\n",
    "\n",
    "# Cross validation\n",
    "def cross_validate(model, n_splits = 10):\n",
    "    k_fold = KFold(n_splits = n_splits)\n",
    "    scores = [model.fit(X[train], y[train]).score(X[test], y[test]) for train, test in k_fold.split(X)]\n",
    "    scores = np.percentile(scores, [40, 50, 60])\n",
    "    return scores\n"
   ]
  },
  {
   "cell_type": "code",
   "execution_count": null,
   "metadata": {},
   "outputs": [],
   "source": []
  },
  {
   "cell_type": "markdown",
   "metadata": {},
   "source": [
    "### **3. Presentation**"
   ]
  },
  {
   "cell_type": "markdown",
   "metadata": {},
   "source": [
    "#### Link to GitHub: "
   ]
  },
  {
   "cell_type": "markdown",
   "metadata": {},
   "source": []
  }
 ],
 "metadata": {
  "kernelspec": {
   "display_name": "Python 3",
   "language": "python",
   "name": "python3"
  },
  "language_info": {
   "codemirror_mode": {
    "name": "ipython",
    "version": 3
   },
   "file_extension": ".py",
   "mimetype": "text/x-python",
   "name": "python",
   "nbconvert_exporter": "python",
   "pygments_lexer": "ipython3",
   "version": "3.7.3"
  }
 },
 "nbformat": 4,
 "nbformat_minor": 4
}
